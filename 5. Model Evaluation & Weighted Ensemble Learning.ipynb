{
 "cells": [
  {
   "cell_type": "code",
   "execution_count": 1,
   "metadata": {},
   "outputs": [],
   "source": [
    "import numpy as np\n",
    "import cv2\n",
    "import os\n",
    "import fnmatch\n",
    "import seaborn as sns\n",
    "import matplotlib.pyplot as plt\n",
    "import tensorflow as tf \n",
    "from tensorflow.keras.models import load_model\n",
    "from tensorflow.keras.preprocessing.image import  ImageDataGenerator\n",
    "from sklearn.metrics import classification_report,confusion_matrix,accuracy_score, precision_score,recall_score,f1_score"
   ]
  },
  {
   "cell_type": "markdown",
   "metadata": {},
   "source": [
    "# Load the testing samples "
   ]
  },
  {
   "cell_type": "code",
   "execution_count": 2,
   "metadata": {},
   "outputs": [
    {
     "name": "stdout",
     "output_type": "stream",
     "text": [
      "Found 1498 images belonging to 2 classes.\n",
      "Found 703 images belonging to 2 classes.\n"
     ]
    }
   ],
   "source": [
    "target_img = (224,224)\n",
    "input_img = (224,224,3)\n",
    "batch = 32\n",
    "\n",
    "train_datagen = ImageDataGenerator(rescale=1./255)\n",
    "\n",
    "valid_datagen = ImageDataGenerator(rescale=1./255)\n",
    "\n",
    "train_generator = train_datagen.flow_from_directory(\n",
    "        'Selected Features/Train_224x224/',\n",
    "        target_size = target_img,\n",
    "        batch_size = batch,\n",
    "        class_mode = 'binary')\n",
    "validation_generator = valid_datagen.flow_from_directory(\n",
    "        'Selected Features/Test_224x224/',\n",
    "        target_size = target_img,\n",
    "        batch_size = batch,\n",
    "        class_mode = 'binary')"
   ]
  },
  {
   "cell_type": "code",
   "execution_count": 3,
   "metadata": {},
   "outputs": [
    {
     "name": "stdout",
     "output_type": "stream",
     "text": [
      "1 ./Selected Features/Test_224x224/1/357.png\n"
     ]
    }
   ],
   "source": [
    "directory = './Selected Features/Test_224x224/'\n",
    "\n",
    "test_images = []\n",
    "\n",
    "for subdir, _, files in os.walk(directory):\n",
    "    for file in files:\n",
    "        if fnmatch.fnmatch(file, '*.png'):\n",
    "            test_images.append(os.path.join(subdir, file))\n",
    "\n",
    "test_labels = [os.path.basename(os.path.dirname(image_path)) for image_path in test_images]\n",
    "\n",
    "print(test_labels[0], test_images[0])"
   ]
  },
  {
   "cell_type": "code",
   "execution_count": 4,
   "metadata": {},
   "outputs": [
    {
     "name": "stdout",
     "output_type": "stream",
     "text": [
      "(703,)\n"
     ]
    }
   ],
   "source": [
    "y_test = np.array(test_labels).astype(int)\n",
    "print(y_test.shape)"
   ]
  },
  {
   "cell_type": "code",
   "execution_count": 5,
   "metadata": {},
   "outputs": [],
   "source": [
    "#Test Images \n",
    "length = len(test_images)\n",
    "batch_size = length \n",
    "\n",
    "images = np.empty((batch_size, 224, 224, 3), dtype=np.float32)\n",
    "\n",
    "for i in range(length):\n",
    "    test = cv2.imread(test_images[i])\n",
    "    test = cv2.cvtColor(test, cv2.COLOR_BGR2RGB)\n",
    "    img = np.array(test) / 255.0\n",
    "    \n",
    "    images[i] = img"
   ]
  },
  {
   "cell_type": "markdown",
   "metadata": {},
   "source": [
    "# Evaluation of three different variants of VGG16"
   ]
  },
  {
   "cell_type": "code",
   "execution_count": 6,
   "metadata": {},
   "outputs": [],
   "source": [
    "model1 =load_model('VGG16_tpe_selected_features.h5')\n",
    "model2 =load_model('VGG16_simulated_selected_features.h5')\n",
    "model3 = load_model('VGG16_random_selected_features.h5')"
   ]
  },
  {
   "cell_type": "code",
   "execution_count": 7,
   "metadata": {},
   "outputs": [],
   "source": [
    "prediction1 = (model1.predict(images) > 0.5).astype(int).flatten()\n",
    "prediction2 = (model2.predict(images) > 0.5).astype(int).flatten()\n",
    "prediction3 = (model3.predict(images) > 0.5).astype(int).flatten()"
   ]
  },
  {
   "cell_type": "code",
   "execution_count": 8,
   "metadata": {},
   "outputs": [
    {
     "name": "stdout",
     "output_type": "stream",
     "text": [
      "Evaluation Metrics of VGG16_TPE:\n",
      "Testing Accuracy: 99.14651493598862\n",
      "Precision: 0.9916738984493967\n",
      "Recall: 0.991086906747784\n",
      "F1-Score: 0.991372115856652\n"
     ]
    }
   ],
   "source": [
    "accuracy1 = accuracy_score(y_test, prediction1)\n",
    "precision1 =precision_score(y_test, prediction1, average='macro')\n",
    "recall = recall_score(y_test, prediction1, average='macro')\n",
    "f1 = f1_score(y_test, prediction1, average='macro')\n",
    "\n",
    "output = (\n",
    "    \"Evaluation Metrics of VGG16_TPE:\\n\"\n",
    "    f\"Testing Accuracy: {accuracy1 * 100}\\n\"\n",
    "    f\"Precision: {precision1}\\n\"\n",
    "    f\"Recall: {recall}\\n\"\n",
    "    f\"F1-Score: {f1}\"\n",
    ")\n",
    "\n",
    "print(output)"
   ]
  },
  {
   "cell_type": "code",
   "execution_count": 13,
   "metadata": {},
   "outputs": [
    {
     "name": "stdout",
     "output_type": "stream",
     "text": [
      "Classification Report of VGG16_TPE:\n",
      "\n",
      "               precision    recall  f1-score   support\n",
      "\n",
      "      Normal       0.99      0.99      0.99       316\n",
      "      Attack       0.99      0.99      0.99       387\n",
      "\n",
      "    accuracy                           0.99       703\n",
      "   macro avg       0.99      0.99      0.99       703\n",
      "weighted avg       0.99      0.99      0.99       703\n",
      "\n"
     ]
    },
    {
     "data": {
      "image/png": "[encoded data removed]",
      "text/plain": [
       "<Figure size 432x288 with 2 Axes>"
      ]
     },
     "metadata": {
      "needs_background": "light"
     },
     "output_type": "display_data"
    }
   ],
   "source": [
    "target_names = ['Normal', 'Attack']\n",
    "print(\"Classification Report of VGG16_TPE:\\n\\n\", classification_report(y_test, prediction1, target_names=target_names))\n",
    "\n",
    "conf_mat1 = confusion_matrix(y_test, prediction1)\n",
    "sns.heatmap(conf_mat1, annot=True, fmt = 'd', cmap='Blues', xticklabels=target_names, yticklabels=target_names)\n",
    "plt.title('Confusion Matrix of VGG16-TPE')\n",
    "plt.show()"
   ]
  },
  {
   "cell_type": "code",
   "execution_count": 14,
   "metadata": {},
   "outputs": [
    {
     "name": "stdout",
     "output_type": "stream",
     "text": [
      "Evaluation Metrics of VGG16_Simulated_Annealing:\n",
      "Testing Accuracy: 98.71977240398293\n",
      "Precision: 0.9878559944878272\n",
      "Recall: 0.986340071304746\n",
      "F1-Score: 0.9870463297934415\n"
     ]
    }
   ],
   "source": [
    "accuracy2 = accuracy_score(y_test, prediction2)\n",
    "precision2 =precision_score(y_test, prediction2, average='macro')\n",
    "recall2 = recall_score(y_test, prediction2, average='macro')\n",
    "f12 = f1_score(y_test, prediction2, average='macro')\n",
    "\n",
    "output2 = (\n",
    "    \"Evaluation Metrics of VGG16_Simulated_Annealing:\\n\"\n",
    "    f\"Testing Accuracy: {accuracy2 * 100}\\n\"\n",
    "    f\"Precision: {precision2}\\n\"\n",
    "    f\"Recall: {recall2}\\n\"\n",
    "    f\"F1-Score: {f12}\"\n",
    ")\n",
    "\n",
    "print(output2)"
   ]
  },
  {
   "cell_type": "code",
   "execution_count": 15,
   "metadata": {},
   "outputs": [
    {
     "name": "stdout",
     "output_type": "stream",
     "text": [
      "Classification Report of VGG16_Simuated_Annealing:\n",
      "\n",
      "               precision    recall  f1-score   support\n",
      "\n",
      "      Normal       0.99      0.98      0.99       316\n",
      "      Attack       0.98      0.99      0.99       387\n",
      "\n",
      "    accuracy                           0.99       703\n",
      "   macro avg       0.99      0.99      0.99       703\n",
      "weighted avg       0.99      0.99      0.99       703\n",
      "\n"
     ]
    },
    {
     "data": {
      "image/png": "[encoded data removed]",
      "text/plain": [
       "<Figure size 432x288 with 2 Axes>"
      ]
     },
     "metadata": {
      "needs_background": "light"
     },
     "output_type": "display_data"
    }
   ],
   "source": [
    "print(\"Classification Report of VGG16_Simuated_Annealing:\\n\\n\", classification_report(y_test, prediction2, target_names=target_names))\n",
    "\n",
    "conf_mat2 = confusion_matrix(y_test, prediction2)\n",
    "sns.heatmap(conf_mat2, annot=True, fmt = 'd', cmap='Blues', xticklabels=target_names, yticklabels=target_names)\n",
    "plt.title('Confusion Matrix of VGG16_Simuated_Annealing')\n",
    "plt.show()"
   ]
  },
  {
   "cell_type": "code",
   "execution_count": 16,
   "metadata": {},
   "outputs": [
    {
     "name": "stdout",
     "output_type": "stream",
     "text": [
      "Evaluation Metrics of VGG16_Random_Search:\n",
      "Testing Accuracy: 99.43100995732574\n",
      "Precision: 0.9942514637098092\n",
      "Recall: 0.9942514637098092\n",
      "F1-Score: 0.9942514637098092\n"
     ]
    }
   ],
   "source": [
    "accuracy3 = accuracy_score(y_test, prediction3)\n",
    "precision3 =precision_score(y_test, prediction3, average='macro')\n",
    "recall3 = recall_score(y_test, prediction3, average='macro')\n",
    "f1_3 = f1_score(y_test, prediction3, average='macro')\n",
    "\n",
    "output3 = (\n",
    "    \"Evaluation Metrics of VGG16_Random_Search:\\n\"\n",
    "    f\"Testing Accuracy: {accuracy3 * 100}\\n\"\n",
    "    f\"Precision: {precision3}\\n\"\n",
    "    f\"Recall: {recall3}\\n\"\n",
    "    f\"F1-Score: {f1_3}\"\n",
    ")\n",
    "\n",
    "print(output3)"
   ]
  },
  {
   "cell_type": "code",
   "execution_count": 17,
   "metadata": {},
   "outputs": [
    {
     "name": "stdout",
     "output_type": "stream",
     "text": [
      "Classification Report of VGG16_Random_Search:\n",
      "\n",
      "               precision    recall  f1-score   support\n",
      "\n",
      "      Normal       0.99      0.99      0.99       316\n",
      "      Attack       0.99      0.99      0.99       387\n",
      "\n",
      "    accuracy                           0.99       703\n",
      "   macro avg       0.99      0.99      0.99       703\n",
      "weighted avg       0.99      0.99      0.99       703\n",
      "\n"
     ]
    },
    {
     "data": {
      "image/png": "[encoded data removed]",
      "text/plain": [
       "<Figure size 432x288 with 2 Axes>"
      ]
     },
     "metadata": {
      "needs_background": "light"
     },
     "output_type": "display_data"
    }
   ],
   "source": [
    "print(\"Classification Report of VGG16_Random_Search:\\n\\n\", classification_report(y_test, prediction3, target_names=target_names))\n",
    "\n",
    "conf_mat3 = confusion_matrix(y_test, prediction3)\n",
    "sns.heatmap(conf_mat3, annot=True, fmt = 'd', cmap='Blues', xticklabels=target_names, yticklabels=target_names)\n",
    "plt.title('Confusion Matrix of VGG16_Random_Search')\n",
    "plt.show()"
   ]
  },
  {
   "cell_type": "markdown",
   "metadata": {},
   "source": [
    "# Misclassification based Weighted Ensemble Learning"
   ]
  },
  {
   "cell_type": "code",
   "execution_count": 18,
   "metadata": {},
   "outputs": [],
   "source": [
    "models = [model1, model2, model3]\n",
    "\n",
    "predictions = [model.predict(images) for model in models]"
   ]
  },
  {
   "cell_type": "code",
   "execution_count": 19,
   "metadata": {},
   "outputs": [
    {
     "data": {
      "text/plain": [
       "(3, 703, 1)"
      ]
     },
     "execution_count": 19,
     "metadata": {},
     "output_type": "execute_result"
    }
   ],
   "source": [
    "predictions = np.array(predictions)\n",
    "predictions.shape"
   ]
  },
  {
   "cell_type": "code",
   "execution_count": 20,
   "metadata": {},
   "outputs": [
    {
     "name": "stdout",
     "output_type": "stream",
     "text": [
      "Misclassified samples by VGG16_TPE: 6\n",
      "Misclassified samples by VGG16_Simulated Annealing: 9\n",
      "Misclassified samples by VGG16_Random_Search: 4\n"
     ]
    }
   ],
   "source": [
    "misclassified1 = np.sum(y_test != prediction1)\n",
    "misclassified2 = np.sum(y_test != prediction2)\n",
    "misclassified3 = np.sum(y_test != prediction3)\n",
    "print(f\"Misclassified samples by VGG16_TPE: {misclassified1}\\nMisclassified samples by VGG16_Simulated Annealing: {misclassified2}\\nMisclassified samples by VGG16_Random_Search: {misclassified3}\")"
   ]
  },
  {
   "cell_type": "code",
   "execution_count": 21,
   "metadata": {},
   "outputs": [
    {
     "name": "stdout",
     "output_type": "stream",
     "text": [
      "Weight for VGG16_TPE: 0.3157982431523288\n",
      "Weight for VGG16_Simulated Annealing: 0.21054385703334355\n",
      "Weight for VGG16_Random_Search: 0.47365789981432765\n"
     ]
    }
   ],
   "source": [
    "w1 = 1/(misclassified1 + 0.001)\n",
    "w2 = 1/(misclassified2 + 0.001)\n",
    "w3 = 1/(misclassified3 + 0.001)\n",
    "\n",
    "sum_weights = w1 + w2 + w3\n",
    "\n",
    "normalized_w1 = w1 / sum_weights\n",
    "normalized_w2 = w2 / sum_weights\n",
    "normalized_w3 = w3 / sum_weights\n",
    "\n",
    "print(f\"Weight for VGG16_TPE: {normalized_w1}\\nWeight for VGG16_Simulated Annealing: {normalized_w2}\\nWeight for VGG16_Random_Search: {normalized_w3}\")\n"
   ]
  },
  {
   "cell_type": "code",
   "execution_count": 22,
   "metadata": {},
   "outputs": [
    {
     "name": "stdout",
     "output_type": "stream",
     "text": [
      "Evaluation Metrics of Ensemble Learning with Optimized Weight:\n",
      "Testing Accuracy: 99.71550497866288\n",
      "Precision: 0.9974293059125964\n",
      "Recall: 0.9968354430379747\n",
      "F1-Score: 0.997124038618884\n"
     ]
    }
   ],
   "source": [
    "weights = [normalized_w1, normalized_w2, normalized_w3]\n",
    "weighted_prediction = np.tensordot(predictions, weights, axes=((0),(0)))\n",
    "weighted_ensemble_prediction = (weighted_prediction > 0.5).astype(int).flatten()\n",
    "\n",
    "weighted_accuracy = accuracy_score(y_test, weighted_ensemble_prediction)\n",
    "ensemble_precision =precision_score(y_test, weighted_ensemble_prediction, average='macro')\n",
    "ensemble_recall = recall_score(y_test, weighted_ensemble_prediction, average='macro')\n",
    "ensemble_f1 = f1_score(y_test, weighted_ensemble_prediction, average='macro')\n",
    "\n",
    "ensemble_output = (\n",
    "    \"Evaluation Metrics of Ensemble Learning with Optimized Weight:\\n\"\n",
    "    f\"Testing Accuracy: {weighted_accuracy * 100}\\n\"\n",
    "    f\"Precision: {ensemble_precision}\\n\"\n",
    "    f\"Recall: {ensemble_recall}\\n\"\n",
    "    f\"F1-Score: {ensemble_f1}\"\n",
    ")\n",
    "\n",
    "print(ensemble_output)"
   ]
  },
  {
   "cell_type": "code",
   "execution_count": 23,
   "metadata": {},
   "outputs": [
    {
     "name": "stdout",
     "output_type": "stream",
     "text": [
      "Classification Report of Misclassified Based Weighted Ensemble:\n",
      "\n",
      "               precision    recall  f1-score   support\n",
      "\n",
      "      Normal       1.00      0.99      1.00       316\n",
      "      Attack       0.99      1.00      1.00       387\n",
      "\n",
      "    accuracy                           1.00       703\n",
      "   macro avg       1.00      1.00      1.00       703\n",
      "weighted avg       1.00      1.00      1.00       703\n",
      "\n"
     ]
    },
    {
     "data": {
      "image/png": "[encoded data removed]",
      "text/plain": [
       "<Figure size 432x288 with 2 Axes>"
      ]
     },
     "metadata": {
      "needs_background": "light"
     },
     "output_type": "display_data"
    }
   ],
   "source": [
    "print(\"Classification Report of Misclassified Based Weighted Ensemble:\\n\\n\", classification_report(y_test, weighted_ensemble_prediction, target_names=target_names))\n",
    "\n",
    "conf_mat4 = confusion_matrix(y_test, weighted_ensemble_prediction)\n",
    "sns.heatmap(conf_mat4, annot=True, fmt = 'd', cmap='Blues', xticklabels=target_names, yticklabels=target_names)\n",
    "plt.title('Confusion Matrix of Ensemble Learning with optimized weight')\n",
    "plt.show()"
   ]
  }
 ],
 "metadata": {
  "kernelspec": {
   "display_name": "Python 3 (ipykernel)",
   "language": "python",
   "name": "python3"
  },
  "language_info": {
   "codemirror_mode": {
    "name": "ipython",
    "version": 3
   },
   "file_extension": ".py",
   "mimetype": "text/x-python",
   "name": "python",
   "nbconvert_exporter": "python",
   "pygments_lexer": "ipython3",
   "version": "3.9.13"
  }
 },
 "nbformat": 4,
 "nbformat_minor": 2
}
